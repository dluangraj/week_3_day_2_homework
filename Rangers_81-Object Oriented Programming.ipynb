{
 "cells": [
  {
   "cell_type": "markdown",
   "metadata": {},
   "source": [
    "# Object-Oriented-Programming (OOP)"
   ]
  },
  {
   "cell_type": "markdown",
   "metadata": {},
   "source": [
    "## Tasks Today:\n",
    "\n",
    "   \n",
    "\n",
    "1) <b>Creating a Class (Initializing/Declaring)</b> <br>\n",
    "2) <b>Using a Class (Instantiating)</b> <br>\n",
    " &nbsp;&nbsp;&nbsp;&nbsp; a) Creating One Instance <br>\n",
    " &nbsp;&nbsp;&nbsp;&nbsp; b) Creating Multiple Instances <br>\n",
    " &nbsp;&nbsp;&nbsp;&nbsp; c) In-Class Exercise #1 - Create a Class 'Car' and instantiate three different makes of cars <br>\n",
    "3) <b>The \\__init\\__() Method</b> <br>\n",
    " &nbsp;&nbsp;&nbsp;&nbsp; a) The 'self' Attribute <br>\n",
    "4) <b>Class Attributes</b> <br>\n",
    " &nbsp;&nbsp;&nbsp;&nbsp; a) Initializing Attributes <br>\n",
    " &nbsp;&nbsp;&nbsp;&nbsp; b) Setting an Attribute Outside of the \\__init\\__() Method <br>\n",
    " &nbsp;&nbsp;&nbsp;&nbsp; c) Setting Defaults for Attributes <br>\n",
    " &nbsp;&nbsp;&nbsp;&nbsp; d) Accessing Class Attributes <br>\n",
    " &nbsp;&nbsp;&nbsp;&nbsp; e) Changing Class Attributes <br>\n",
    " &nbsp;&nbsp;&nbsp;&nbsp; f) In-Class Exercise #2 - Add a color and wheels attribute to your 'Car' class <br>\n",
    "5) <b>Class Methods</b> <br>\n",
    " &nbsp;&nbsp;&nbsp;&nbsp; a) Creating <br>\n",
    " &nbsp;&nbsp;&nbsp;&nbsp; b) Calling <br>\n",
    " &nbsp;&nbsp;&nbsp;&nbsp; c) Modifying an Attribute's Value Through a Method <br>\n",
    " &nbsp;&nbsp;&nbsp;&nbsp; d) Incrementing an Attribute's Value Through a Method <br>\n",
    " &nbsp;&nbsp;&nbsp;&nbsp; e) In-Class Exercise #3 - Add a method that prints the cars color and wheel number, then call them <br>\n",
    "6) <b>Inheritance</b> <br>\n",
    " &nbsp;&nbsp;&nbsp;&nbsp; a) Syntax for Inheriting from a Parent Class <br>\n",
    " &nbsp;&nbsp;&nbsp;&nbsp; b) The \\__init\\__() Method for a Child Class (super()) <br>\n",
    " &nbsp;&nbsp;&nbsp;&nbsp; c) Defining Attributes and Methods for the Child Class <br>\n",
    " &nbsp;&nbsp;&nbsp;&nbsp; d) Method Overriding <br>\n",
    " &nbsp;&nbsp;&nbsp;&nbsp; e) In-Class Exercise #4 - Create a class 'Ford' that inherits from 'Car' class and initialize it as a Blue Ford Explorer with 4 wheels using the super() method <br>\n",
    "7) <b>Classes as Attributes</b> <br>\n",
    "8) <b>Exercises</b> <br>\n",
    " &nbsp;&nbsp;&nbsp;&nbsp; a) Exercise #1 - Turn the shopping cart program from last week into an object-oriented program <br>"
   ]
  },
  {
   "cell_type": "markdown",
   "metadata": {},
   "source": [
    "## Creating a Class (Initializing/Declaring)\n",
    "<p>When creating a class, function, or even a variable you are initializing that object. Initializing and Declaring occur at the same time in Python, whereas in lower level languages you have to declare an object before initializing it. This is the first step in the process of using a class.</p>"
   ]
  },
  {
   "cell_type": "code",
   "execution_count": 1,
   "metadata": {},
   "outputs": [],
   "source": [
    "class Car():\n",
    "    wheels = 4\n",
    "    color = 'blue'"
   ]
  },
  {
   "cell_type": "markdown",
   "metadata": {},
   "source": [
    "## Using a Class (Instantiating)\n",
    "<p>The process of creating a class is called <i>Instantiating</i>. Each time you create a variable of that type of class, it is referred to as an <i>Instance</i> of that class. This is the second step in the process of using a class.</p>"
   ]
  },
  {
   "cell_type": "markdown",
   "metadata": {},
   "source": [
    "##### Creating One Instance"
   ]
  },
  {
   "cell_type": "code",
   "execution_count": 2,
   "metadata": {},
   "outputs": [
    {
     "name": "stdout",
     "output_type": "stream",
     "text": [
      "4\n"
     ]
    }
   ],
   "source": [
    "ford = Car()\n",
    "print(ford.wheels)"
   ]
  },
  {
   "cell_type": "markdown",
   "metadata": {},
   "source": [
    "##### Creating Multiple Instances"
   ]
  },
  {
   "cell_type": "code",
   "execution_count": 3,
   "metadata": {},
   "outputs": [
    {
     "name": "stdout",
     "output_type": "stream",
     "text": [
      "blue\n",
      "4\n",
      "blue\n",
      "4\n"
     ]
    }
   ],
   "source": [
    "mazda = Car()\n",
    "nissan = Car()\n",
    "geo = Car()\n",
    "mercedes = Car()\n",
    "\n",
    "print(mazda.color)\n",
    "print(nissan.wheels)\n",
    "print(geo.color)\n",
    "print(mercedes.wheels)"
   ]
  },
  {
   "cell_type": "markdown",
   "metadata": {},
   "source": [
    "##### In-Class Exercise #1 - Create a Class 'Car' and Instantiate three different makes of cars"
   ]
  },
  {
   "cell_type": "code",
   "execution_count": 4,
   "metadata": {},
   "outputs": [
    {
     "name": "stdout",
     "output_type": "stream",
     "text": [
      "4\n",
      "5\n",
      "1\n"
     ]
    }
   ],
   "source": [
    "class Car():\n",
    "    doors = 4\n",
    "    seats = 5\n",
    "    winch = 1\n",
    "    \n",
    "tesla = Car()\n",
    "jeep = Car()\n",
    "rangeRover = Car()\n",
    "\n",
    "print(tesla.doors)\n",
    "print(jeep.seats)\n",
    "print(rangeRover.winch)"
   ]
  },
  {
   "cell_type": "markdown",
   "metadata": {},
   "source": [
    "## The \\__init\\__() Method <br>\n",
    "<p>This method is used in almost every created class, and called only once upon the creation of the class instance. This method will initialize all variables needed for the object.</p>"
   ]
  },
  {
   "cell_type": "code",
   "execution_count": 7,
   "metadata": {},
   "outputs": [
    {
     "name": "stdout",
     "output_type": "stream",
     "text": [
      "4\n",
      "red\n",
      "4.7L\n",
      "4.7L\n",
      "4.7L\n",
      "blue\n",
      "silver\n"
     ]
    }
   ],
   "source": [
    "class Car():\n",
    "    ENGINE = \"4.7L\"\n",
    "    def __init__(self, wheels, color):\n",
    "        self.wheels = wheels\n",
    "        self.color = color\n",
    "        \n",
    "ford = Car(4, \"red\")\n",
    "print(ford.wheels)\n",
    "print(ford.color)\n",
    "\n",
    "mazda = Car(4, \"blue\")\n",
    "mercedes = Car(6, \"silver\")\n",
    "\n",
    "print(mazda.ENGINE)\n",
    "print(ford.ENGINE)\n",
    "print(mercedes.ENGINE)\n",
    "\n",
    "print(mazda.color)\n",
    "print(mercedes.color)\n",
    "\n",
    "        "
   ]
  },
  {
   "cell_type": "markdown",
   "metadata": {},
   "source": [
    "##### The 'self' Attribute <br>\n",
    "<p>This attribute is required to keep track of specific instance's attributes. Without the self attribute, the program would not know how to reference or keep track of an instance's attributes.</p>"
   ]
  },
  {
   "cell_type": "code",
   "execution_count": null,
   "metadata": {},
   "outputs": [],
   "source": [
    "# see above"
   ]
  },
  {
   "cell_type": "markdown",
   "metadata": {},
   "source": [
    "## Class Attributes <br>\n",
    "<p>While variables are inside of a class, they are referred to as attributes and not variables. When someone says 'attribute' you know they're speaking about a class. Attributes can be initialized through the init method, or outside of it.</p>"
   ]
  },
  {
   "cell_type": "markdown",
   "metadata": {},
   "source": [
    "##### Initializing Attributes"
   ]
  },
  {
   "cell_type": "code",
   "execution_count": 10,
   "metadata": {},
   "outputs": [],
   "source": [
    "# see above\n",
    "class Toy():\n",
    "    TYPE = \"Sock Em Poppers\"\n",
    "    def __init__(self, color, size, weight):\n",
    "        self.color = color\n",
    "        self.size = size\n",
    "        self.weight = weight\n",
    "        \n",
    "boppers_1 = Toy(\"purple\", \"large\", \"5oz\")\n",
    "boppers_2 = Toy(\"yellow\", \"small\", \"10oz\")\n"
   ]
  },
  {
   "cell_type": "markdown",
   "metadata": {},
   "source": [
    "##### Accessing Class Attributes"
   ]
  },
  {
   "cell_type": "code",
   "execution_count": 11,
   "metadata": {
    "scrolled": true
   },
   "outputs": [
    {
     "name": "stdout",
     "output_type": "stream",
     "text": [
      "purple\n",
      "small\n",
      "10oz\n"
     ]
    }
   ],
   "source": [
    "# See Above\n",
    "\n",
    "print(boppers_1.color)\n",
    "print(boppers_2.size)\n",
    "print(boppers_2.weight)"
   ]
  },
  {
   "cell_type": "markdown",
   "metadata": {},
   "source": [
    "##### Setting Defaults for Attributes"
   ]
  },
  {
   "cell_type": "code",
   "execution_count": 13,
   "metadata": {},
   "outputs": [
    {
     "name": "stdout",
     "output_type": "stream",
     "text": [
      "4\n",
      "6\n",
      "Blue\n",
      "Blue\n",
      "4.7L\n",
      "4.7L\n"
     ]
    }
   ],
   "source": [
    "class Car():\n",
    "    ENGINE = \"4.7L\" #constant attribute - this is unlikely to be changed\n",
    "    \n",
    "    def __init__(self, wheels):\n",
    "        self.wheels = wheels\n",
    "        self.color = \"Blue\" #default attribute - this can be changed and might be likely to change\n",
    "        \n",
    "honda = Car(4)\n",
    "hummer = Car(6)\n",
    "\n",
    "print(honda.wheels)\n",
    "print(hummer.wheels)\n",
    "print(honda.color)\n",
    "print(hummer.color)\n",
    "print(honda.ENGINE)\n",
    "print(hummer.ENGINE)\n"
   ]
  },
  {
   "cell_type": "markdown",
   "metadata": {},
   "source": [
    "##### Changing Class Attributes <br>\n",
    "<p>Keep in mind there are global class attributes and then there are attributes only available to each class instance which won't effect other classes.</p>"
   ]
  },
  {
   "cell_type": "code",
   "execution_count": 16,
   "metadata": {},
   "outputs": [
    {
     "name": "stdout",
     "output_type": "stream",
     "text": [
      "Before the change: White\n",
      "After the change: White\n",
      "Hummer Before the change: 6\n",
      "Hummer After the Change: 8\n"
     ]
    }
   ],
   "source": [
    "#change the default attribute\n",
    "print(f\"Before the change: {honda.color}\")\n",
    "honda.color = \"White\"\n",
    "print(f\"After the change: {honda.color}\")\n",
    "\n",
    "print(f\"Hummer Before the change: {hummer.wheels}\")\n",
    "hummer.wheels = 8\n",
    "print(f\"Hummer After the Change: {hummer.wheels}\")\n"
   ]
  },
  {
   "cell_type": "code",
   "execution_count": null,
   "metadata": {},
   "outputs": [],
   "source": []
  },
  {
   "cell_type": "markdown",
   "metadata": {},
   "source": [
    "##### In-Class Exercise #2 - Add a doors and seats attribute to your 'Car' class then print out two different instances with different doors and seats"
   ]
  },
  {
   "cell_type": "code",
   "execution_count": 28,
   "metadata": {},
   "outputs": [
    {
     "name": "stdout",
     "output_type": "stream",
     "text": [
      "Black\n",
      "8\n"
     ]
    }
   ],
   "source": [
    "class Car():\n",
    "    ENGINE = \"4.7L\"\n",
    "    \n",
    "    def __init__(self, seats, color, doors = 4):\n",
    "        self.doors = doors\n",
    "        self.seats = seats\n",
    "        self.color = color\n",
    "        \n",
    "tesla = Car(5, \"Black\")\n",
    "limo = Car(10, \"Gold\", 8)\n",
    "\n",
    "\n",
    "print(tesla.color)\n",
    "print(limo.doors)\n",
    "\n"
   ]
  },
  {
   "cell_type": "markdown",
   "metadata": {},
   "source": [
    "## Class Methods <br>\n",
    "<p>While inside of a class, functions are referred to as 'methods'. If you hear someone mention methods, they're speaking about classes. Methods are essentially functions, but only callable on the instances of a class.</p>"
   ]
  },
  {
   "cell_type": "markdown",
   "metadata": {},
   "source": [
    "##### Creating"
   ]
  },
  {
   "cell_type": "code",
   "execution_count": 34,
   "metadata": {},
   "outputs": [],
   "source": [
    "class Bus():\n",
    "    \"\"\"\n",
    "    The bus will have doors, seats, seats available, color, and a bus driver\n",
    "    \n",
    "    Attributes for the class: \n",
    "    -doors: expected to be an integer\n",
    "    -seats: integer\n",
    "    -seats available: integer\n",
    "    -color: string\n",
    "    -busDriver: string\n",
    "    \n",
    "    \"\"\"\n",
    "    def __init__(self, doors, seats, seatsAvailable, color, busDriver):\n",
    "        self.doors = doors\n",
    "        self.seats = seats\n",
    "        self.seatsAvailable = seatsAvailable\n",
    "        self.color = color\n",
    "        self.busDriver = busDriver\n",
    "        \n",
    "        #decrement the number of seats available\n",
    "    def loadPassengers(self):\n",
    "        if seatsAvailable <= 0:\n",
    "            print(\"This bus is full! You can't take anymore passengers\")\n",
    "        else:\n",
    "            passengers = int(input(\"How many passengers are getting on?\"))\n",
    "            self.seatsAvailable -= passengers\n",
    "            print(f\"{passengers} seats have been taken and there are {self.seatsAvailable} seats available\")\n",
    "        \n",
    "    #increment the number of seats available\n",
    "    def unloadPassengers(self):\n",
    "        if self.seatsAvailable >= self.seats:\n",
    "            print(\"There is no one left to get off the bus!\")\n",
    "            self.seatsAvailable = self.seats\n",
    "        else:\n",
    "            unload = int(input(\"How many passengers are getting off the bus?\"))\n",
    "            self.seatsAvailable += unload\n",
    "            if self.seatsAvailable >= self.seats:\n",
    "                  self.seatsAvailable = self.seats\n",
    "                  print(f\"{unload} passengers have left the bus. There are {self.seatsAvailable} unoccupied seats.\")\n",
    "            print(f\"{unload} passengers have left the bus. There are {self.seatsAvailable} unoccupied seats.\")\n",
    "    \n",
    "    def changeDriver(self):\n",
    "        change = input(\"Who is replacing you? \")\n",
    "        self.busDriver = change\n",
    "        print(f\"The new bus driver is {self.busDriver}\")\n",
    "                  \n",
    "    def checkSeats(self):\n",
    "        print(self.seatsAvailable)\n",
    "                  \n",
    "dennisBus = Bus(2, 90, 45, \"Yellow\", \"Dennis\")\n",
    "# print(dennisBus.seatsAvailable)"
   ]
  },
  {
   "cell_type": "markdown",
   "metadata": {},
   "source": [
    "##### Calling"
   ]
  },
  {
   "cell_type": "code",
   "execution_count": 35,
   "metadata": {},
   "outputs": [
    {
     "name": "stdout",
     "output_type": "stream",
     "text": [
      "What would you like to do? Load/Unload/Change Driver/Check Seats/Quitload\n"
     ]
    },
    {
     "ename": "NameError",
     "evalue": "name 'seatsAvailable' is not defined",
     "output_type": "error",
     "traceback": [
      "\u001b[1;31m---------------------------------------------------------------------------\u001b[0m",
      "\u001b[1;31mNameError\u001b[0m                                 Traceback (most recent call last)",
      "Input \u001b[1;32mIn [35]\u001b[0m, in \u001b[0;36m<cell line: 20>\u001b[1;34m()\u001b[0m\n\u001b[0;32m     17\u001b[0m         \u001b[38;5;28;01melse\u001b[39;00m:\n\u001b[0;32m     18\u001b[0m             \u001b[38;5;28mprint\u001b[39m(\u001b[38;5;124m\"\u001b[39m\u001b[38;5;124mThat is not a valid response! Please pick one from the list\u001b[39m\u001b[38;5;124m\"\u001b[39m)\n\u001b[1;32m---> 20\u001b[0m \u001b[43mrun\u001b[49m\u001b[43m(\u001b[49m\u001b[43m)\u001b[49m\n",
      "Input \u001b[1;32mIn [35]\u001b[0m, in \u001b[0;36mrun\u001b[1;34m()\u001b[0m\n\u001b[0;32m      8\u001b[0m     \u001b[38;5;28;01mbreak\u001b[39;00m\n\u001b[0;32m      9\u001b[0m \u001b[38;5;28;01melif\u001b[39;00m response\u001b[38;5;241m.\u001b[39mlower() \u001b[38;5;241m==\u001b[39m \u001b[38;5;124m\"\u001b[39m\u001b[38;5;124mload\u001b[39m\u001b[38;5;124m\"\u001b[39m:\n\u001b[1;32m---> 10\u001b[0m     \u001b[43mdennisBus\u001b[49m\u001b[38;5;241;43m.\u001b[39;49m\u001b[43mloadPassengers\u001b[49m\u001b[43m(\u001b[49m\u001b[43m)\u001b[49m\n\u001b[0;32m     11\u001b[0m \u001b[38;5;28;01melif\u001b[39;00m response\u001b[38;5;241m.\u001b[39mlower() \u001b[38;5;241m==\u001b[39m \u001b[38;5;124m\"\u001b[39m\u001b[38;5;124munload\u001b[39m\u001b[38;5;124m\"\u001b[39m:\n\u001b[0;32m     12\u001b[0m     dennisBus\u001b[38;5;241m.\u001b[39munloadPassengers()\n",
      "Input \u001b[1;32mIn [34]\u001b[0m, in \u001b[0;36mBus.loadPassengers\u001b[1;34m(self)\u001b[0m\n\u001b[0;32m     21\u001b[0m \u001b[38;5;28;01mdef\u001b[39;00m \u001b[38;5;21mloadPassengers\u001b[39m(\u001b[38;5;28mself\u001b[39m):\n\u001b[1;32m---> 22\u001b[0m     \u001b[38;5;28;01mif\u001b[39;00m \u001b[43mseatsAvailable\u001b[49m \u001b[38;5;241m<\u001b[39m\u001b[38;5;241m=\u001b[39m \u001b[38;5;241m0\u001b[39m:\n\u001b[0;32m     23\u001b[0m         \u001b[38;5;28mprint\u001b[39m(\u001b[38;5;124m\"\u001b[39m\u001b[38;5;124mThis bus is full! You can\u001b[39m\u001b[38;5;124m'\u001b[39m\u001b[38;5;124mt take anymore passengers\u001b[39m\u001b[38;5;124m\"\u001b[39m)\n\u001b[0;32m     24\u001b[0m     \u001b[38;5;28;01melse\u001b[39;00m:\n",
      "\u001b[1;31mNameError\u001b[0m: name 'seatsAvailable' is not defined"
     ]
    }
   ],
   "source": [
    "# See Above\n",
    "\n",
    "def run():\n",
    "    while True:\n",
    "        response = input(\"What would you like to do? Load/Unload/Change Driver/Check Seats/Quit\")\n",
    "        if response.lower() == \"quit\":\n",
    "            print(\"Oh no! There are passengers to be picked up! :(\")\n",
    "            break\n",
    "        elif response.lower() == \"load\":\n",
    "            dennisBus.loadPassengers()\n",
    "        elif response.lower() == \"unload\":\n",
    "            dennisBus.unloadPassengers()\n",
    "        elif response.lower() == \"change driver\":\n",
    "            dennisBus.changeDriver()\n",
    "        elif response.lower() == \"check seats\":\n",
    "            dennisBus.checkSeats()\n",
    "        else:\n",
    "            print(\"That is not a valid response! Please pick one from the list\")\n",
    "            \n",
    "run()"
   ]
  },
  {
   "cell_type": "markdown",
   "metadata": {},
   "source": [
    "##### Modifying an Attribute's Value Through a Method"
   ]
  },
  {
   "cell_type": "code",
   "execution_count": null,
   "metadata": {},
   "outputs": [],
   "source": []
  },
  {
   "cell_type": "markdown",
   "metadata": {},
   "source": [
    "##### Incrementing an Attribute's Value Through a Method"
   ]
  },
  {
   "cell_type": "code",
   "execution_count": null,
   "metadata": {},
   "outputs": [],
   "source": []
  },
  {
   "cell_type": "markdown",
   "metadata": {},
   "source": [
    "##### In-Class Exercise #3 - Add a method that takes in three parameters of year, doors and seats and prints out a formatted print statement with make, model, year, seats, and doors"
   ]
  },
  {
   "cell_type": "code",
   "execution_count": 36,
   "metadata": {},
   "outputs": [
    {
     "ename": "SyntaxError",
     "evalue": "invalid syntax (2185452333.py, line 29)",
     "output_type": "error",
     "traceback": [
      "\u001b[1;36m  Input \u001b[1;32mIn [36]\u001b[1;36m\u001b[0m\n\u001b[1;33m    def carDoors(self):\u001b[0m\n\u001b[1;37m    ^\u001b[0m\n\u001b[1;31mSyntaxError\u001b[0m\u001b[1;31m:\u001b[0m invalid syntax\n"
     ]
    }
   ],
   "source": [
    "# Create class with 2 paramters inside of the __init__ which are make and model\n",
    "\n",
    "# Inside of the Car class create a method that has 4 parameter in total (self,year,door,seats, age)\n",
    "\n",
    "# Output: This car is from 2019 and is a Ford Expolorer and has 4 doors and 5 seats\n",
    "\n",
    "# Create method to increment car's age\n",
    "#increment whatever you would like\n",
    "\n",
    "class Car():\n",
    "    \n",
    "    def __init__(self, make, model, year, doors, seats, age):\n",
    "        self.make = make\n",
    "        self.model = model\n",
    "        self.year = year\n",
    "        self.doors = doors\n",
    "        self.seats = seats\n",
    "        self.age = age\n",
    "        \n",
    "    def checkMake(self):\n",
    "        carMake = input(\"What is the make of the car?: \")\n",
    "        \n",
    "    def checkModel(self):\n",
    "        carModel = input(\"what is the model of the car?: \")\n",
    "        \n",
    "    def carYear(self):\n",
    "        carYear = int(input(\"What is the year of the car?: \")\n",
    "                      \n",
    "    def carDoors(self):\n",
    "        carDoors = int(input(\"How many doors does the car have?: \"))\n",
    "    \n",
    "    def carSeats(self):\n",
    "        carSeats = int(input(\"How many seats does the car have?: \"))\n",
    "    \n",
    "    def increaseAge(self):\n",
    "        if self.year <= self.age\n",
    "            print(\"Impossible\")\n",
    "            self.year = self.age\n",
    "        else: \n",
    "            agedIncrement = int(input(\"How many years old is the car?: \"))\n",
    "            self.year += agedIncrement\n",
    "            print(agedIncrement)\n",
    "\n",
    "     print(f\"This car is from {self.year}, {self.age} years old and is a {self.make} {self.model} and has {self.doors} doors and {self.seats} seats) \n",
    "        \n",
    "        \n",
    " print(Car())       \n",
    "\n"
   ]
  },
  {
   "cell_type": "markdown",
   "metadata": {},
   "source": [
    "## Inheritance <br>\n",
    "<p>You can create a child-parent relationship between two classes by using inheritance. What this allows you to do is have overriding methods, but also inherit traits from the parent class. Think of it as an actual parent and child, the child will inherit the parent's genes, as will the classes in OOP</p>"
   ]
  },
  {
   "cell_type": "markdown",
   "metadata": {},
   "source": [
    "##### Syntax for Inheriting from a Parent Class"
   ]
  },
  {
   "cell_type": "code",
   "execution_count": 42,
   "metadata": {},
   "outputs": [
    {
     "name": "stdout",
     "output_type": "stream",
     "text": [
      "Chester\n",
      "9.8\n",
      "Lassie\n",
      "15\n",
      "9.8\n",
      "Reeeeeeeee\n",
      "Eyo\n",
      "Ruff Ruff Ruff\n",
      "9.8\n",
      "15\n"
     ]
    }
   ],
   "source": [
    "class Animal():\n",
    "    ACCELERATION = 9.8\n",
    "    \n",
    "    def __init__(self, name, species, legs=4):\n",
    "        self.name = name\n",
    "        self.specices = species\n",
    "        self.legs = legs\n",
    "        \n",
    "    #generic parent animal class method\n",
    "    \n",
    "    def makeSound(self):\n",
    "        print(\"Reeeeeeeee\")\n",
    "\n",
    "#creation of our child class - Dog\n",
    "class Dog(Animal):\n",
    "    SPEED = 15\n",
    "    \n",
    "    def printInfo(self):\n",
    "        print(f\"The dog runs at {self.SPEED} mph and accelerates at {self.ACCELERATION} mps\")\n",
    "        \n",
    "#creation of our grandchild class - Mutt\n",
    "\n",
    "class Mutt(Dog):\n",
    "    COLOR = \"Black and Brown\"\n",
    "    \n",
    "    def __init__(self, name, species, eyeColor, legs=4):\n",
    "        Dog.__init__(self, name, species, legs)\n",
    "        self.eyeColor = eyeColor\n",
    "        \n",
    "    def makeSound(self):\n",
    "        print(\"Ruff Ruff Ruff\")\n",
    "        \n",
    "cheetah = Animal(\"Chester\", \"cheetah\")\n",
    "print(cheetah.name)\n",
    "print(cheetah.ACCELERATION)\n",
    "lassie = Dog(\"Lassie\", \"Dog\")\n",
    "print(lassie.name)\n",
    "print(lassie.SPEED)\n",
    "print(lassie.ACCELERATION)\n",
    "lassie.makeSound()\n",
    "eyo = Mutt(\"Eyo\", \"Dog\", \"Brown\")\n",
    "print(eyo.name)\n",
    "eyo.makeSound()\n",
    "print(eyo.ACCELERATION)\n",
    "print(eyo.SPEED)"
   ]
  },
  {
   "cell_type": "markdown",
   "metadata": {},
   "source": [
    "##### The \\__init\\__() Method for a Child Class - super()"
   ]
  },
  {
   "cell_type": "code",
   "execution_count": 43,
   "metadata": {
    "scrolled": true
   },
   "outputs": [
    {
     "name": "stdout",
     "output_type": "stream",
     "text": [
      "woooooof\n",
      "15\n",
      "9.8\n",
      "The dog runs at 15 mph and accelerates at 9.8 mps\n"
     ]
    }
   ],
   "source": [
    "class Mutt(Dog):\n",
    "    color = \"black and brown\"\n",
    "    #overriding the Animal Class __init__ iwth the super().__init__\n",
    "    def __init__(self, name, species, eyeColor, legs = 4):\n",
    "        super().__init__(name, species, legs)\n",
    "        self.eyeColor = eyeColor\n",
    "        \n",
    "    def makeSound(self):\n",
    "        print(\"woooooof\")\n",
    "        \n",
    "henri = Mutt(\"Henri\", \"Dog\", \"Brown\")\n",
    "\n",
    "henri.makeSound()\n",
    "print(henri.SPEED)\n",
    "print(henri.ACCELERATION)\n",
    "\n",
    "henri.printInfo()"
   ]
  },
  {
   "cell_type": "markdown",
   "metadata": {},
   "source": [
    "##### Defining Attributes and Methods for the Child Class"
   ]
  },
  {
   "cell_type": "code",
   "execution_count": null,
   "metadata": {},
   "outputs": [],
   "source": [
    "# See Above"
   ]
  },
  {
   "cell_type": "markdown",
   "metadata": {},
   "source": [
    "##### Method Overriding"
   ]
  },
  {
   "cell_type": "code",
   "execution_count": null,
   "metadata": {},
   "outputs": [],
   "source": [
    "# See Above"
   ]
  },
  {
   "cell_type": "markdown",
   "metadata": {},
   "source": [
    "## Classes as Attributes <br>\n",
    "<p>Classes can also be used as attributes within another class. This is useful in situations where you need to keep variables locally stored, instead of globally stored.</p>"
   ]
  },
  {
   "cell_type": "code",
   "execution_count": 45,
   "metadata": {},
   "outputs": [
    {
     "name": "stdout",
     "output_type": "stream",
     "text": [
      "20\n",
      "2015 Mazda 3 20\n"
     ]
    }
   ],
   "source": [
    "class Battery():\n",
    "    VOLTZ: 7.8\n",
    "        \n",
    "    def __init__(self, cells):\n",
    "        self.cells = cells\n",
    "        \n",
    "class Car():\n",
    "    \n",
    "    def __init__(self, year, make, model, battery):\n",
    "        self.year = year\n",
    "        self.make = make\n",
    "        self.model = model\n",
    "        self.battery = battery\n",
    "        \n",
    "    def printInfo(self):\n",
    "        print(f\"{self.year} {self.make} {self.model} {self.battery.cells}\")\n",
    "        \n",
    "battery = Battery(20)\n",
    "\n",
    "print(battery.cells)\n",
    "\n",
    "mazda = Car(2015, \"Mazda\", \"3\", battery)\n",
    "mazda.printInfo()"
   ]
  },
  {
   "cell_type": "markdown",
   "metadata": {},
   "source": [
    "# Exercises"
   ]
  },
  {
   "cell_type": "markdown",
   "metadata": {},
   "source": [
    "### Exercise 1 - Turn the shopping cart program from yesterday into an object-oriented program\n",
    "\n",
    "The comments in the cell below are there as a guide for thinking about the problem. However, if you feel a different way is best for you and your own thought process, please do what feels best for you by all means."
   ]
  },
  {
   "cell_type": "code",
   "execution_count": 68,
   "metadata": {},
   "outputs": [
    {
     "name": "stdout",
     "output_type": "stream",
     "text": [
      "(16.0, {'Bologna': 2, 'Bread': 1, 'Mayo': 1})\n",
      "4.0\n"
     ]
    }
   ],
   "source": [
    "# Create a class called cart that retains items and has methods to add, remove, and show\n",
    "\n",
    "class Cart():\n",
    "    def __init__(self):\n",
    "        self.total = 0\n",
    "        self.items = {}\n",
    "        \n",
    "    def addItems(self, itemName, quantity, price):\n",
    "        self.total += price * quantity\n",
    "        self.items.update({itemName: quantity})\n",
    "        return self.total, self.items\n",
    "    \n",
    "    def removeItems(self, itemName, quantity, price):\n",
    "        if itemName in self.items:\n",
    "            if quantity < self.items[itemName] and quantity > 0:\n",
    "                self.items[itemName] -= quantity\n",
    "                self.total -= price * quantity\n",
    "            elif quantity >= self.items[itemName]:\n",
    "                self.total -= price * self.items[itemName]\n",
    "                del self.items[itemName]\n",
    "            return self.items, self.total\n",
    "    \n",
    "    def checkout(self, cashPaid):\n",
    "        if cashPaid >= self.total:\n",
    "            return cashPaid - self.total\n",
    "        else:\n",
    "            return \"Cash Not Paid Enough\"\n",
    "        \n",
    "item = Cart()\n",
    "item.addItems(\"Bologna\",2,5.00)\n",
    "item.addItems(\"Bread\",1,4.00)\n",
    "print(item.addItems(\"Mayo\",1,2.00))\n",
    "print(item.checkout(20))\n",
    "\n",
    "        \n",
    "        "
   ]
  },
  {
   "cell_type": "markdown",
   "metadata": {},
   "source": [
    "### Exercise 2 - Write a Python class which has two methods get_String and print_String. get_String accept a string from the user and print_String print the string in upper case"
   ]
  },
  {
   "cell_type": "code",
   "execution_count": 52,
   "metadata": {},
   "outputs": [
    {
     "name": "stdout",
     "output_type": "stream",
     "text": [
      "Enter a word: Hi\n",
      "HI\n"
     ]
    }
   ],
   "source": [
    "class String():\n",
    "    \n",
    "    def __init__(self):\n",
    "        self.stringInput = \"\"\n",
    "        \n",
    "    def getString(self):\n",
    "        self.stringInput = input(\"Enter a word: \")\n",
    "        \n",
    "    def printString(self):\n",
    "        print(self.stringInput.upper())\n",
    "        \n",
    "word = String()\n",
    "word.getString()\n",
    "word.printString()\n",
    "        \n",
    "        \n"
   ]
  },
  {
   "cell_type": "code",
   "execution_count": null,
   "metadata": {},
   "outputs": [],
   "source": []
  }
 ],
 "metadata": {
  "kernelspec": {
   "display_name": "Python 3 (ipykernel)",
   "language": "python",
   "name": "python3"
  },
  "language_info": {
   "codemirror_mode": {
    "name": "ipython",
    "version": 3
   },
   "file_extension": ".py",
   "mimetype": "text/x-python",
   "name": "python",
   "nbconvert_exporter": "python",
   "pygments_lexer": "ipython3",
   "version": "3.9.7"
  }
 },
 "nbformat": 4,
 "nbformat_minor": 2
}
